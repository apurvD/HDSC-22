{
 "cells": [
  {
   "cell_type": "markdown",
   "metadata": {},
   "source": [
    "# HAMOYE STAGE D (TAG ALONG CODE) \n",
    "# SUBMITTED BY -> APURV DESHPANDE"
   ]
  },
  {
   "cell_type": "markdown",
   "metadata": {},
   "source": [
    "### INTRODUCTION : Every minute, the world loses an area of forest the size of 48 football fields. And deforestation in the Amazon Basin accounts for the largest share, contributing to reduced biodiversity, habitat loss, climate change, and other devastating effects. But better data about the location of deforestation and human encroachment on forests can help governments and local stakeholders respond more quickly and effectively."
   ]
  },
  {
   "cell_type": "markdown",
   "metadata": {},
   "source": [
    "IMPORTING THE REQUIRED LIBRARIES"
   ]
  },
  {
   "cell_type": "code",
   "execution_count": 7,
   "metadata": {
    "execution": {
     "iopub.execute_input": "2023-01-11T06:21:20.429347Z",
     "iopub.status.busy": "2023-01-11T06:21:20.428906Z",
     "iopub.status.idle": "2023-01-11T06:21:20.446276Z",
     "shell.execute_reply": "2023-01-11T06:21:20.441264Z",
     "shell.execute_reply.started": "2023-01-11T06:21:20.429309Z"
    },
    "id": "MKa_Xb2kPIuL"
   },
   "outputs": [],
   "source": [
    "import os\n",
    "import pandas as pd\n",
    "import numpy as np\n",
    "import tensorflow as tf\n",
    "import matplotlib.pyplot as plt\n",
    "import gc\n",
    "import numpy as np\n",
    "from keras import backend as K\n",
    "from sklearn.metrics import fbeta_score\n",
    "from keras.layers import Conv2D, Dense, LSTM, Flatten, MaxPooling2D, BatchNormalization, Dropout\n",
    "from sklearn.model_selection import train_test_split\n",
    "from sklearn.preprocessing import LabelEncoder\n",
    "from sklearn.preprocessing import OneHotEncoder\n",
    "from tensorflow.keras.preprocessing.image import load_img, img_to_array\n",
    "from sklearn.metrics import fbeta_score\n",
    "from tqdm import tqdm\n",
    "from sklearn.utils import shuffle\n",
    "import cv2\n",
    "from PIL import Image\n",
    "from tensorflow import keras\n",
    "from tensorflow.keras.layers import Dense\n",
    "from tensorflow.keras.models import Sequential \n",
    "import seaborn as sns\n",
    "import tensorflow as tf\n",
    "import matplotlib.pyplot as plt\n",
    "import matplotlib.image as mpimg\n",
    "from keras.callbacks import ModelCheckpoint, EarlyStopping, ReduceLROnPlateau, History"
   ]
  },
  {
   "cell_type": "markdown",
   "metadata": {},
   "source": [
    "THE DATASET REQUIRED FOR THIS NOTEBOOK CONTAIN THE BELOW FILES:\n",
    "1. train.csv - a list of training file names and their labels, the labels are space-delimited\n",
    "2. sample_submission.csv - correct format of submission, contains all the files in the test set.\n",
    "3. [train/test]-tif-v2.tar.7z - tif files for the training/test set \n",
    "4. [train/test]-jpg[-additional].tar.7z - jpg files for the trainin/test set \n",
    "5. Kaggle-planet-[train/test]-tif.torrent - a BitTorrent file for downloading [train/test]-tif-v2.tar.7z "
   ]
  },
  {
   "cell_type": "code",
   "execution_count": 8,
   "metadata": {
    "execution": {
     "iopub.execute_input": "2023-01-11T06:21:20.449849Z",
     "iopub.status.busy": "2023-01-11T06:21:20.448979Z",
     "iopub.status.idle": "2023-01-11T06:21:20.666027Z",
     "shell.execute_reply": "2023-01-11T06:21:20.664659Z",
     "shell.execute_reply.started": "2023-01-11T06:21:20.449797Z"
    },
    "id": "CVfqjdG4PwHg",
    "outputId": "70251c6c-7a3a-4a8c-e503-2f5b55839e72"
   },
   "outputs": [
    {
     "data": {
      "text/html": [
       "<div>\n",
       "<style scoped>\n",
       "    .dataframe tbody tr th:only-of-type {\n",
       "        vertical-align: middle;\n",
       "    }\n",
       "\n",
       "    .dataframe tbody tr th {\n",
       "        vertical-align: top;\n",
       "    }\n",
       "\n",
       "    .dataframe thead th {\n",
       "        text-align: right;\n",
       "    }\n",
       "</style>\n",
       "<table border=\"1\" class=\"dataframe\">\n",
       "  <thead>\n",
       "    <tr style=\"text-align: right;\">\n",
       "      <th></th>\n",
       "      <th>image_name</th>\n",
       "      <th>tags</th>\n",
       "    </tr>\n",
       "  </thead>\n",
       "  <tbody>\n",
       "    <tr>\n",
       "      <th>0</th>\n",
       "      <td>train_0</td>\n",
       "      <td>haze primary</td>\n",
       "    </tr>\n",
       "    <tr>\n",
       "      <th>1</th>\n",
       "      <td>train_1</td>\n",
       "      <td>agriculture clear primary water</td>\n",
       "    </tr>\n",
       "    <tr>\n",
       "      <th>2</th>\n",
       "      <td>train_2</td>\n",
       "      <td>clear primary</td>\n",
       "    </tr>\n",
       "    <tr>\n",
       "      <th>3</th>\n",
       "      <td>train_3</td>\n",
       "      <td>clear primary</td>\n",
       "    </tr>\n",
       "    <tr>\n",
       "      <th>4</th>\n",
       "      <td>train_4</td>\n",
       "      <td>agriculture clear habitation primary road</td>\n",
       "    </tr>\n",
       "  </tbody>\n",
       "</table>\n",
       "</div>"
      ],
      "text/plain": [
       "  image_name                                       tags\n",
       "0    train_0                               haze primary\n",
       "1    train_1            agriculture clear primary water\n",
       "2    train_2                              clear primary\n",
       "3    train_3                              clear primary\n",
       "4    train_4  agriculture clear habitation primary road"
      ]
     },
     "execution_count": 8,
     "metadata": {},
     "output_type": "execute_result"
    }
   ],
   "source": [
    "#reading the labels\n",
    "train_label = pd.read_csv('../input/planets-dataset/planet/planet/train_classes.csv')\n",
    "sam_sub = pd.read_csv('../input/planets-dataset/planet/planet/sample_submission.csv')\n",
    "train_label.head()"
   ]
  },
  {
   "cell_type": "code",
   "execution_count": 9,
   "metadata": {
    "execution": {
     "iopub.execute_input": "2023-01-11T06:21:20.668735Z",
     "iopub.status.busy": "2023-01-11T06:21:20.667900Z",
     "iopub.status.idle": "2023-01-11T06:21:20.674542Z",
     "shell.execute_reply": "2023-01-11T06:21:20.673239Z",
     "shell.execute_reply.started": "2023-01-11T06:21:20.668664Z"
    }
   },
   "outputs": [],
   "source": [
    "#onehot=OneHotEncoder()\n",
    "encoder = LabelEncoder()"
   ]
  },
  {
   "cell_type": "code",
   "execution_count": 10,
   "metadata": {
    "execution": {
     "iopub.execute_input": "2023-01-11T06:21:20.677310Z",
     "iopub.status.busy": "2023-01-11T06:21:20.676821Z",
     "iopub.status.idle": "2023-01-11T06:21:20.703578Z",
     "shell.execute_reply": "2023-01-11T06:21:20.702756Z",
     "shell.execute_reply.started": "2023-01-11T06:21:20.677265Z"
    },
    "id": "_aXpsCq-u4cQ",
    "outputId": "07da4c54-b517-4b37-d0c7-e95008789368"
   },
   "outputs": [
    {
     "data": {
      "text/html": [
       "<div>\n",
       "<style scoped>\n",
       "    .dataframe tbody tr th:only-of-type {\n",
       "        vertical-align: middle;\n",
       "    }\n",
       "\n",
       "    .dataframe tbody tr th {\n",
       "        vertical-align: top;\n",
       "    }\n",
       "\n",
       "    .dataframe thead th {\n",
       "        text-align: right;\n",
       "    }\n",
       "</style>\n",
       "<table border=\"1\" class=\"dataframe\">\n",
       "  <thead>\n",
       "    <tr style=\"text-align: right;\">\n",
       "      <th></th>\n",
       "      <th>tags</th>\n",
       "      <th>map</th>\n",
       "    </tr>\n",
       "  </thead>\n",
       "  <tbody>\n",
       "    <tr>\n",
       "      <th>0</th>\n",
       "      <td>agriculture</td>\n",
       "      <td>0</td>\n",
       "    </tr>\n",
       "    <tr>\n",
       "      <th>1</th>\n",
       "      <td>artisinal_mine</td>\n",
       "      <td>1</td>\n",
       "    </tr>\n",
       "    <tr>\n",
       "      <th>2</th>\n",
       "      <td>bare_ground</td>\n",
       "      <td>2</td>\n",
       "    </tr>\n",
       "    <tr>\n",
       "      <th>3</th>\n",
       "      <td>blooming</td>\n",
       "      <td>3</td>\n",
       "    </tr>\n",
       "    <tr>\n",
       "      <th>4</th>\n",
       "      <td>blow_down</td>\n",
       "      <td>4</td>\n",
       "    </tr>\n",
       "    <tr>\n",
       "      <th>5</th>\n",
       "      <td>clear</td>\n",
       "      <td>5</td>\n",
       "    </tr>\n",
       "    <tr>\n",
       "      <th>6</th>\n",
       "      <td>cloudy</td>\n",
       "      <td>6</td>\n",
       "    </tr>\n",
       "    <tr>\n",
       "      <th>7</th>\n",
       "      <td>conventional_mine</td>\n",
       "      <td>7</td>\n",
       "    </tr>\n",
       "    <tr>\n",
       "      <th>8</th>\n",
       "      <td>cultivation</td>\n",
       "      <td>8</td>\n",
       "    </tr>\n",
       "    <tr>\n",
       "      <th>9</th>\n",
       "      <td>habitation</td>\n",
       "      <td>9</td>\n",
       "    </tr>\n",
       "    <tr>\n",
       "      <th>10</th>\n",
       "      <td>haze</td>\n",
       "      <td>10</td>\n",
       "    </tr>\n",
       "    <tr>\n",
       "      <th>11</th>\n",
       "      <td>partly_cloudy</td>\n",
       "      <td>11</td>\n",
       "    </tr>\n",
       "    <tr>\n",
       "      <th>12</th>\n",
       "      <td>primary</td>\n",
       "      <td>12</td>\n",
       "    </tr>\n",
       "    <tr>\n",
       "      <th>13</th>\n",
       "      <td>road</td>\n",
       "      <td>13</td>\n",
       "    </tr>\n",
       "    <tr>\n",
       "      <th>14</th>\n",
       "      <td>selective_logging</td>\n",
       "      <td>14</td>\n",
       "    </tr>\n",
       "    <tr>\n",
       "      <th>15</th>\n",
       "      <td>slash_burn</td>\n",
       "      <td>15</td>\n",
       "    </tr>\n",
       "    <tr>\n",
       "      <th>16</th>\n",
       "      <td>water</td>\n",
       "      <td>16</td>\n",
       "    </tr>\n",
       "  </tbody>\n",
       "</table>\n",
       "</div>"
      ],
      "text/plain": [
       "                 tags  map\n",
       "0         agriculture    0\n",
       "1      artisinal_mine    1\n",
       "2         bare_ground    2\n",
       "3            blooming    3\n",
       "4           blow_down    4\n",
       "5               clear    5\n",
       "6              cloudy    6\n",
       "7   conventional_mine    7\n",
       "8         cultivation    8\n",
       "9          habitation    9\n",
       "10               haze   10\n",
       "11      partly_cloudy   11\n",
       "12            primary   12\n",
       "13               road   13\n",
       "14  selective_logging   14\n",
       "15         slash_burn   15\n",
       "16              water   16"
      ]
     },
     "execution_count": 10,
     "metadata": {},
     "output_type": "execute_result"
    }
   ],
   "source": [
    "#encoder.fit(train_label['tags'])\n",
    "label_maps = pd.DataFrame()\n",
    "label_maps['tags'] = ['agriculture', 'artisinal_mine', 'bare_ground','blooming','blow_down','clear','cloudy','conventional_mine','cultivation','habitation','haze', 'partly_cloudy','primary','road','selective_logging','slash_burn','water']\n",
    "label_maps['map'] = encoder.fit_transform(label_maps['tags'])\n",
    "label_maps"
   ]
  },
  {
   "cell_type": "code",
   "execution_count": 11,
   "metadata": {
    "execution": {
     "iopub.execute_input": "2023-01-11T06:21:20.710448Z",
     "iopub.status.busy": "2023-01-11T06:21:20.707229Z",
     "iopub.status.idle": "2023-01-11T06:21:20.717097Z",
     "shell.execute_reply": "2023-01-11T06:21:20.715859Z",
     "shell.execute_reply.started": "2023-01-11T06:21:20.710402Z"
    },
    "id": "u-C9rNY5j4WD"
   },
   "outputs": [],
   "source": [
    "#defining a dict of encoded labels\n",
    "label_map = {'agriculture': 0,\n",
    " 'artisinal_mine': 1,\n",
    " 'bare_ground': 2,\n",
    " 'blooming': 3,\n",
    " 'blow_down': 4,\n",
    " 'clear': 5,\n",
    " 'cloudy': 6,\n",
    " 'conventional_mine': 7,\n",
    " 'cultivation': 8,\n",
    " 'habitation': 9,\n",
    " 'haze': 10,\n",
    " 'partly_cloudy': 11,\n",
    " 'primary': 12,\n",
    " 'road': 13,\n",
    " 'selective_logging': 14,\n",
    " 'slash_burn': 15,\n",
    " 'water': 16}\n"
   ]
  },
  {
   "cell_type": "code",
   "execution_count": 12,
   "metadata": {
    "execution": {
     "iopub.execute_input": "2023-01-11T06:21:20.720607Z",
     "iopub.status.busy": "2023-01-11T06:21:20.719327Z",
     "iopub.status.idle": "2023-01-11T06:21:20.736873Z",
     "shell.execute_reply": "2023-01-11T06:21:20.735374Z",
     "shell.execute_reply.started": "2023-01-11T06:21:20.720555Z"
    },
    "id": "O-LW5NBij7NX",
    "outputId": "165f602b-7e35-4ca0-cf89-d5a855c4d1c3"
   },
   "outputs": [],
   "source": [
    "#loading the traing_images\n",
    "X = []\n",
    "Y = []\n",
    "train_label = shuffle(train_label,random_state=0)"
   ]
  },
  {
   "cell_type": "code",
   "execution_count": 13,
   "metadata": {
    "execution": {
     "iopub.execute_input": "2023-01-11T06:21:20.741663Z",
     "iopub.status.busy": "2023-01-11T06:21:20.740894Z",
     "iopub.status.idle": "2023-01-11T06:27:25.416075Z",
     "shell.execute_reply": "2023-01-11T06:27:25.414767Z",
     "shell.execute_reply.started": "2023-01-11T06:21:20.741617Z"
    }
   },
   "outputs": [
    {
     "name": "stderr",
     "output_type": "stream",
     "text": [
      "100%|██████████| 40479/40479 [06:04<00:00, 111.00it/s]\n"
     ]
    }
   ],
   "source": [
    "for image_name, tags in tqdm(train_label.values, miniters=400):\n",
    "    arr = cv2.imread('../input/planets-dataset/planet/planet/train-jpg/{}.jpg'.format(image_name), cv2.IMREAD_UNCHANGED)\n",
    "    targets = np.zeros(17)\n",
    "    for t in tags.split(' '):\n",
    "      targets[label_map[t]] = 1 \n",
    "    arr = cv2.resize(arr, (64, 64))\n",
    "    X.append(arr)\n",
    "    Y.append(targets)"
   ]
  },
  {
   "cell_type": "code",
   "execution_count": 14,
   "metadata": {
    "execution": {
     "iopub.execute_input": "2023-01-11T06:27:25.417751Z",
     "iopub.status.busy": "2023-01-11T06:27:25.417416Z",
     "iopub.status.idle": "2023-01-11T06:27:36.428036Z",
     "shell.execute_reply": "2023-01-11T06:27:36.426787Z",
     "shell.execute_reply.started": "2023-01-11T06:27:25.417721Z"
    }
   },
   "outputs": [],
   "source": [
    "X = np.array(X, np.float16)/255.0"
   ]
  },
  {
   "cell_type": "code",
   "execution_count": 15,
   "metadata": {
    "execution": {
     "iopub.execute_input": "2023-01-11T06:27:36.434240Z",
     "iopub.status.busy": "2023-01-11T06:27:36.433844Z",
     "iopub.status.idle": "2023-01-11T06:27:37.290437Z",
     "shell.execute_reply": "2023-01-11T06:27:37.288986Z",
     "shell.execute_reply.started": "2023-01-11T06:27:36.434204Z"
    },
    "id": "7HA9v-wHA3Rb",
    "outputId": "e0874bac-4f72-46de-ff79-51b3a339d11a"
   },
   "outputs": [
    {
     "name": "stdout",
     "output_type": "stream",
     "text": [
      "(32383, 64, 64, 3) (32383, 17) (8096, 64, 64, 3) (8096, 17)\n"
     ]
    }
   ],
   "source": [
    "#splitting\n",
    "X = np.array(X)\n",
    "Y = np.array(Y)\n",
    "x_train, x_val, y_train, y_val = train_test_split(X, Y, test_size = 0.2, shuffle = True, random_state = 1)\n",
    "\n",
    "print(x_train.shape, y_train.shape, x_val.shape, y_val.shape)"
   ]
  },
  {
   "cell_type": "code",
   "execution_count": 16,
   "metadata": {
    "execution": {
     "iopub.execute_input": "2023-01-11T06:27:37.292585Z",
     "iopub.status.busy": "2023-01-11T06:27:37.292134Z",
     "iopub.status.idle": "2023-01-11T06:27:37.497220Z",
     "shell.execute_reply": "2023-01-11T06:27:37.495701Z",
     "shell.execute_reply.started": "2023-01-11T06:27:37.292547Z"
    }
   },
   "outputs": [
    {
     "data": {
      "text/plain": [
       "69"
      ]
     },
     "execution_count": 16,
     "metadata": {},
     "output_type": "execute_result"
    }
   ],
   "source": [
    "del X, Y\n",
    "gc.collect()"
   ]
  },
  {
   "cell_type": "code",
   "execution_count": 17,
   "metadata": {
    "execution": {
     "iopub.execute_input": "2023-01-11T06:27:37.499615Z",
     "iopub.status.busy": "2023-01-11T06:27:37.499251Z",
     "iopub.status.idle": "2023-01-11T06:27:37.698516Z",
     "shell.execute_reply": "2023-01-11T06:27:37.697005Z",
     "shell.execute_reply.started": "2023-01-11T06:27:37.499583Z"
    }
   },
   "outputs": [
    {
     "data": {
      "text/plain": [
       "23"
      ]
     },
     "execution_count": 17,
     "metadata": {},
     "output_type": "execute_result"
    }
   ],
   "source": [
    "gc.collect()"
   ]
  },
  {
   "cell_type": "code",
   "execution_count": 18,
   "metadata": {
    "execution": {
     "iopub.execute_input": "2023-01-11T06:27:37.700314Z",
     "iopub.status.busy": "2023-01-11T06:27:37.699933Z",
     "iopub.status.idle": "2023-01-11T06:27:37.711169Z",
     "shell.execute_reply": "2023-01-11T06:27:37.709955Z",
     "shell.execute_reply.started": "2023-01-11T06:27:37.700281Z"
    },
    "id": "_OaCU9ewgPhK"
   },
   "outputs": [],
   "source": [
    "def fbeta(y_true, y_pred, threshold_shift=0):\n",
    "    beta = 2\n",
    "\n",
    "    # just in case of hipster activation at the final layer\n",
    "    y_pred = K.clip(y_pred, 0, 1)\n",
    "\n",
    "    # shifting the prediction threshold from .5 if needed\n",
    "    y_pred_bin = K.round(y_pred + threshold_shift)\n",
    "\n",
    "    tp = K.sum(K.round(y_true * y_pred_bin)) + K.epsilon()\n",
    "    fp = K.sum(K.round(K.clip(y_pred_bin - y_true, 0, 1)))\n",
    "    fn = K.sum(K.round(K.clip(y_true - y_pred, 0, 1)))\n",
    "\n",
    "    precision = tp / (tp + fp)\n",
    "    recall = tp / (tp + fn)\n",
    "\n",
    "    beta_squared = beta ** 2\n",
    "    return (beta_squared + 1) * (precision * recall) / (beta_squared * precision + recall + K.epsilon())"
   ]
  },
  {
   "cell_type": "code",
   "execution_count": 20,
   "metadata": {
    "execution": {
     "iopub.execute_input": "2023-01-11T06:30:02.848093Z",
     "iopub.status.busy": "2023-01-11T06:30:02.847652Z",
     "iopub.status.idle": "2023-01-11T06:30:02.855440Z",
     "shell.execute_reply": "2023-01-11T06:30:02.854145Z",
     "shell.execute_reply.started": "2023-01-11T06:30:02.848060Z"
    }
   },
   "outputs": [],
   "source": [
    "from tensorflow.keras.optimizers import Adam"
   ]
  },
  {
   "cell_type": "code",
   "execution_count": 21,
   "metadata": {
    "execution": {
     "iopub.execute_input": "2023-01-11T06:30:06.154642Z",
     "iopub.status.busy": "2023-01-11T06:30:06.154223Z",
     "iopub.status.idle": "2023-01-11T06:55:34.403067Z",
     "shell.execute_reply": "2023-01-11T06:55:34.401592Z",
     "shell.execute_reply.started": "2023-01-11T06:30:06.154609Z"
    },
    "id": "p2u_HOG5gthI",
    "outputId": "a72d942e-185f-4fbb-fcef-5f2825caafdd"
   },
   "outputs": [
    {
     "name": "stderr",
     "output_type": "stream",
     "text": [
      "2023-01-11 06:30:09.500727: I tensorflow/compiler/mlir/mlir_graph_optimization_pass.cc:185] None of the MLIR Optimization Passes are enabled (registered 2)\n"
     ]
    },
    {
     "name": "stdout",
     "output_type": "stream",
     "text": [
      "Epoch 1/45\n",
      "506/506 [==============================] - 36s 69ms/step - loss: 0.2244 - fbeta: 0.6343 - val_loss: 0.2034 - val_fbeta: 0.6898\n",
      "Epoch 2/45\n",
      "506/506 [==============================] - 34s 67ms/step - loss: 0.1949 - fbeta: 0.6878 - val_loss: 0.1841 - val_fbeta: 0.6887\n",
      "Epoch 3/45\n",
      "506/506 [==============================] - 34s 68ms/step - loss: 0.1772 - fbeta: 0.7209 - val_loss: 0.1699 - val_fbeta: 0.7390\n",
      "Epoch 4/45\n",
      "506/506 [==============================] - 34s 68ms/step - loss: 0.1654 - fbeta: 0.7437 - val_loss: 0.1581 - val_fbeta: 0.7572\n",
      "Epoch 5/45\n",
      "506/506 [==============================] - 34s 68ms/step - loss: 0.1564 - fbeta: 0.7590 - val_loss: 0.1591 - val_fbeta: 0.7606\n",
      "Epoch 6/45\n",
      "506/506 [==============================] - 34s 67ms/step - loss: 0.1520 - fbeta: 0.7675 - val_loss: 0.1471 - val_fbeta: 0.7877\n",
      "Epoch 7/45\n",
      "506/506 [==============================] - 34s 67ms/step - loss: 0.1478 - fbeta: 0.7740 - val_loss: 0.1510 - val_fbeta: 0.7570\n",
      "Epoch 8/45\n",
      "506/506 [==============================] - 35s 69ms/step - loss: 0.1444 - fbeta: 0.7787 - val_loss: 0.1422 - val_fbeta: 0.7880\n",
      "Epoch 9/45\n",
      "506/506 [==============================] - 35s 69ms/step - loss: 0.1420 - fbeta: 0.7837 - val_loss: 0.1414 - val_fbeta: 0.7784\n",
      "Epoch 10/45\n",
      "506/506 [==============================] - 34s 67ms/step - loss: 0.1401 - fbeta: 0.7871 - val_loss: 0.1381 - val_fbeta: 0.7860\n",
      "Epoch 11/45\n",
      "506/506 [==============================] - 34s 67ms/step - loss: 0.1373 - fbeta: 0.7923 - val_loss: 0.1378 - val_fbeta: 0.7877\n",
      "Epoch 12/45\n",
      "506/506 [==============================] - 35s 70ms/step - loss: 0.1358 - fbeta: 0.7947 - val_loss: 0.1345 - val_fbeta: 0.7996\n",
      "Epoch 13/45\n",
      "506/506 [==============================] - 34s 68ms/step - loss: 0.1325 - fbeta: 0.8003 - val_loss: 0.1357 - val_fbeta: 0.7972\n",
      "Epoch 14/45\n",
      "506/506 [==============================] - 34s 67ms/step - loss: 0.1311 - fbeta: 0.8026 - val_loss: 0.1342 - val_fbeta: 0.7973\n",
      "Epoch 15/45\n",
      "506/506 [==============================] - 34s 67ms/step - loss: 0.1287 - fbeta: 0.8075 - val_loss: 0.1359 - val_fbeta: 0.7935\n",
      "Epoch 16/45\n",
      "506/506 [==============================] - 33s 66ms/step - loss: 0.1282 - fbeta: 0.8073 - val_loss: 0.1353 - val_fbeta: 0.7934\n",
      "Epoch 17/45\n",
      "506/506 [==============================] - 34s 66ms/step - loss: 0.1253 - fbeta: 0.8126 - val_loss: 0.1328 - val_fbeta: 0.8009\n",
      "Epoch 18/45\n",
      "506/506 [==============================] - 33s 66ms/step - loss: 0.1233 - fbeta: 0.8157 - val_loss: 0.1339 - val_fbeta: 0.8048\n",
      "Epoch 19/45\n",
      "506/506 [==============================] - 33s 66ms/step - loss: 0.1217 - fbeta: 0.8188 - val_loss: 0.1367 - val_fbeta: 0.7922\n",
      "Epoch 20/45\n",
      "506/506 [==============================] - 33s 66ms/step - loss: 0.1196 - fbeta: 0.8223 - val_loss: 0.1323 - val_fbeta: 0.8079\n",
      "Epoch 21/45\n",
      "506/506 [==============================] - 33s 66ms/step - loss: 0.1175 - fbeta: 0.8258 - val_loss: 0.1314 - val_fbeta: 0.8130\n",
      "Epoch 22/45\n",
      "506/506 [==============================] - 33s 66ms/step - loss: 0.1157 - fbeta: 0.8293 - val_loss: 0.1332 - val_fbeta: 0.8048\n",
      "Epoch 23/45\n",
      "506/506 [==============================] - 34s 66ms/step - loss: 0.1130 - fbeta: 0.8328 - val_loss: 0.1336 - val_fbeta: 0.8193\n",
      "Epoch 24/45\n",
      "506/506 [==============================] - 33s 66ms/step - loss: 0.1111 - fbeta: 0.8374 - val_loss: 0.1337 - val_fbeta: 0.8064\n",
      "Epoch 25/45\n",
      "506/506 [==============================] - 34s 67ms/step - loss: 0.1087 - fbeta: 0.8414 - val_loss: 0.1360 - val_fbeta: 0.8048\n",
      "Epoch 26/45\n",
      "506/506 [==============================] - 34s 67ms/step - loss: 0.1068 - fbeta: 0.8449 - val_loss: 0.1368 - val_fbeta: 0.8118\n",
      "Epoch 27/45\n",
      "506/506 [==============================] - 34s 67ms/step - loss: 0.1052 - fbeta: 0.8467 - val_loss: 0.1366 - val_fbeta: 0.8116\n",
      "Epoch 28/45\n",
      "506/506 [==============================] - 33s 66ms/step - loss: 0.1018 - fbeta: 0.8519 - val_loss: 0.1397 - val_fbeta: 0.8194\n",
      "Epoch 29/45\n",
      "506/506 [==============================] - 34s 67ms/step - loss: 0.1000 - fbeta: 0.8556 - val_loss: 0.1480 - val_fbeta: 0.8096\n",
      "Epoch 30/45\n",
      "506/506 [==============================] - 35s 68ms/step - loss: 0.0973 - fbeta: 0.8595 - val_loss: 0.1448 - val_fbeta: 0.8155\n",
      "Epoch 31/45\n",
      "506/506 [==============================] - 34s 68ms/step - loss: 0.0950 - fbeta: 0.8642 - val_loss: 0.1429 - val_fbeta: 0.8161\n",
      "Epoch 32/45\n",
      "506/506 [==============================] - 35s 69ms/step - loss: 0.0930 - fbeta: 0.8675 - val_loss: 0.1460 - val_fbeta: 0.8113\n",
      "Epoch 33/45\n",
      "506/506 [==============================] - 34s 67ms/step - loss: 0.0904 - fbeta: 0.8716 - val_loss: 0.1494 - val_fbeta: 0.8152\n",
      "Epoch 34/45\n",
      "506/506 [==============================] - 34s 67ms/step - loss: 0.0884 - fbeta: 0.8748 - val_loss: 0.1586 - val_fbeta: 0.8197\n",
      "Epoch 35/45\n",
      "506/506 [==============================] - 34s 66ms/step - loss: 0.0862 - fbeta: 0.8777 - val_loss: 0.1530 - val_fbeta: 0.8205\n",
      "Epoch 36/45\n",
      "506/506 [==============================] - 34s 66ms/step - loss: 0.0840 - fbeta: 0.8816 - val_loss: 0.1587 - val_fbeta: 0.8162\n",
      "Epoch 37/45\n",
      "506/506 [==============================] - 34s 66ms/step - loss: 0.0821 - fbeta: 0.8847 - val_loss: 0.1602 - val_fbeta: 0.8177\n",
      "Epoch 38/45\n",
      "506/506 [==============================] - 33s 66ms/step - loss: 0.0791 - fbeta: 0.8899 - val_loss: 0.1629 - val_fbeta: 0.8171\n",
      "Epoch 39/45\n",
      "506/506 [==============================] - 33s 66ms/step - loss: 0.0773 - fbeta: 0.8927 - val_loss: 0.1682 - val_fbeta: 0.8140\n",
      "Epoch 40/45\n",
      "506/506 [==============================] - 33s 66ms/step - loss: 0.0755 - fbeta: 0.8952 - val_loss: 0.1750 - val_fbeta: 0.8067\n",
      "Epoch 41/45\n",
      "506/506 [==============================] - 34s 67ms/step - loss: 0.0726 - fbeta: 0.9002 - val_loss: 0.1770 - val_fbeta: 0.8113\n",
      "Epoch 42/45\n",
      "506/506 [==============================] - 33s 66ms/step - loss: 0.0712 - fbeta: 0.9016 - val_loss: 0.1830 - val_fbeta: 0.8105\n",
      "Epoch 43/45\n",
      "506/506 [==============================] - 33s 66ms/step - loss: 0.0681 - fbeta: 0.9069 - val_loss: 0.1857 - val_fbeta: 0.8147\n",
      "Epoch 44/45\n",
      "506/506 [==============================] - 34s 67ms/step - loss: 0.0663 - fbeta: 0.9096 - val_loss: 0.1952 - val_fbeta: 0.8114\n",
      "Epoch 45/45\n",
      "506/506 [==============================] - 33s 66ms/step - loss: 0.0641 - fbeta: 0.9124 - val_loss: 0.2005 - val_fbeta: 0.8082\n"
     ]
    },
    {
     "data": {
      "text/plain": [
       "<keras.callbacks.History at 0x7fbce3fe5e50>"
      ]
     },
     "execution_count": 21,
     "metadata": {},
     "output_type": "execute_result"
    }
   ],
   "source": [
    "model = keras.Sequential()\n",
    "model.add(Conv2D(64, 5, 2, activation = \"relu\", input_shape = (64, 64, 3)))\n",
    "model.add(MaxPooling2D())\n",
    "model.add(Conv2D(128, 5, 2, activation = \"relu\"))\n",
    "model.add(MaxPooling2D())\n",
    "model.add(Flatten())\n",
    "model.add(Dense(512, activation = \"relu\"))\n",
    "model.add(Dense(17, activation = \"sigmoid\"))\n",
    "model.compile(loss = \"binary_crossentropy\", optimizer = Adam(), metrics = [fbeta])\n",
    "model.fit(x_train, y_train, validation_data = (x_val, y_val), epochs = 45, batch_size = 64)"
   ]
  },
  {
   "cell_type": "code",
   "execution_count": 22,
   "metadata": {
    "execution": {
     "iopub.execute_input": "2023-01-11T06:56:36.631287Z",
     "iopub.status.busy": "2023-01-11T06:56:36.630702Z",
     "iopub.status.idle": "2023-01-11T06:56:36.838808Z",
     "shell.execute_reply": "2023-01-11T06:56:36.837386Z",
     "shell.execute_reply.started": "2023-01-11T06:56:36.631210Z"
    }
   },
   "outputs": [
    {
     "data": {
      "text/plain": [
       "2300"
      ]
     },
     "execution_count": 22,
     "metadata": {},
     "output_type": "execute_result"
    }
   ],
   "source": [
    "gc.collect()"
   ]
  },
  {
   "cell_type": "code",
   "execution_count": 23,
   "metadata": {
    "execution": {
     "iopub.execute_input": "2023-01-11T06:56:40.604693Z",
     "iopub.status.busy": "2023-01-11T06:56:40.604256Z",
     "iopub.status.idle": "2023-01-11T06:56:45.279597Z",
     "shell.execute_reply": "2023-01-11T06:56:45.278342Z",
     "shell.execute_reply.started": "2023-01-11T06:56:40.604644Z"
    },
    "id": "Qu3PT3EvgyQp"
   },
   "outputs": [
    {
     "name": "stdout",
     "output_type": "stream",
     "text": [
      "253/253 [==============================] - 4s 15ms/step - loss: 0.2005 - fbeta: 0.8086\n",
      "Test loss: 0.20054876804351807\n",
      "Test accuracy: 0.8085652589797974\n"
     ]
    }
   ],
   "source": [
    "#with tpu_strategy.scope():\n",
    "test_loss, test_accuracy = model.evaluate(x_val, y_val)\n",
    "print('Test loss: {}'.format(test_loss))\n",
    "print('Test accuracy: {}'.format(test_accuracy))"
   ]
  },
  {
   "cell_type": "code",
   "execution_count": 24,
   "metadata": {
    "execution": {
     "iopub.execute_input": "2023-01-11T06:56:49.750260Z",
     "iopub.status.busy": "2023-01-11T06:56:49.749859Z",
     "iopub.status.idle": "2023-01-11T06:56:49.958960Z",
     "shell.execute_reply": "2023-01-11T06:56:49.957756Z",
     "shell.execute_reply.started": "2023-01-11T06:56:49.750228Z"
    }
   },
   "outputs": [
    {
     "data": {
      "text/plain": [
       "790"
      ]
     },
     "execution_count": 24,
     "metadata": {},
     "output_type": "execute_result"
    }
   ],
   "source": [
    "gc.collect()"
   ]
  },
  {
   "cell_type": "code",
   "execution_count": null,
   "metadata": {
    "execution": {
     "iopub.execute_input": "2023-01-11T06:59:00.998620Z",
     "iopub.status.busy": "2023-01-11T06:59:00.998170Z",
     "iopub.status.idle": "2023-01-11T06:59:15.882523Z",
     "shell.execute_reply": "2023-01-11T06:59:15.881029Z",
     "shell.execute_reply.started": "2023-01-11T06:59:00.998583Z"
    },
    "id": "Age03HNHg0bo",
    "outputId": "a3614913-c87f-4f13-acfc-973d368c947a"
   },
   "outputs": [],
   "source": [
    "model.evaluate(x_val, y_val)\n",
    "\n",
    "print(\"train fscore: \", fbeta_score(y_train, np.round(model.predict(x_train)), 2,average = 'weighted'))\n",
    "print(\"val fscore: \", fbeta_score(y_val, np.round(model.predict(x_val)), 2, average = 'weighted'))"
   ]
  },
  {
   "cell_type": "markdown",
   "metadata": {},
   "source": [
    "253/253 [==============================] - 1s 2ms/step - loss: 0.2290 - fbeta: 0.8059\n",
    "        \n",
    "train fscore:  0.9321623395315798\n",
    "    \n",
    "val fscore:  0.800504961104014"
   ]
  },
  {
   "cell_type": "code",
   "execution_count": 29,
   "metadata": {
    "execution": {
     "iopub.execute_input": "2023-01-11T06:59:36.706241Z",
     "iopub.status.busy": "2023-01-11T06:59:36.705824Z",
     "iopub.status.idle": "2023-01-11T06:59:36.918647Z",
     "shell.execute_reply": "2023-01-11T06:59:36.917272Z",
     "shell.execute_reply.started": "2023-01-11T06:59:36.706209Z"
    }
   },
   "outputs": [
    {
     "data": {
      "text/plain": [
       "3133"
      ]
     },
     "execution_count": 29,
     "metadata": {},
     "output_type": "execute_result"
    }
   ],
   "source": [
    "del x_train, y_train, x_val, y_val\n",
    "gc.collect()"
   ]
  },
  {
   "cell_type": "code",
   "execution_count": 30,
   "metadata": {
    "execution": {
     "iopub.execute_input": "2023-01-11T06:59:39.256977Z",
     "iopub.status.busy": "2023-01-11T06:59:39.256235Z",
     "iopub.status.idle": "2023-01-11T06:59:39.263522Z",
     "shell.execute_reply": "2023-01-11T06:59:39.262280Z",
     "shell.execute_reply.started": "2023-01-11T06:59:39.256925Z"
    },
    "id": "DZvhAE4bmRQ0"
   },
   "outputs": [],
   "source": [
    "#dividing my test_labels into two part for test-jpg and test-jpg-additional\n",
    "test = sam_sub[0 : 40669]\n",
    "files = sam_sub[40669 : ]"
   ]
  },
  {
   "cell_type": "code",
   "execution_count": 31,
   "metadata": {
    "execution": {
     "iopub.execute_input": "2023-01-11T06:59:42.417962Z",
     "iopub.status.busy": "2023-01-11T06:59:42.417169Z",
     "iopub.status.idle": "2023-01-11T07:09:15.462506Z",
     "shell.execute_reply": "2023-01-11T07:09:15.461189Z",
     "shell.execute_reply.started": "2023-01-11T06:59:42.417908Z"
    },
    "id": "RqbSvkeXix2x",
    "outputId": "ef036cb4-6e48-409d-818e-3b5a5f0c2777"
   },
   "outputs": [
    {
     "name": "stderr",
     "output_type": "stream",
     "text": [
      "100%|██████████| 40669/40669 [06:17<00:00, 107.86it/s]\n",
      "100%|██████████| 20522/20522 [02:59<00:00, 114.40it/s]\n"
     ]
    }
   ],
   "source": [
    "#with tpu_strategy.scope():   \n",
    "test_img = []\n",
    "\n",
    "for image_name, tags in tqdm(test.values, miniters=1000):\n",
    "    arr = cv2.imread('../input/planets-dataset/planet/planet/test-jpg/{}.jpg'.format(image_name))\n",
    "    test_img.append(cv2.resize(arr, (64, 64)))\n",
    "\n",
    "for image_name, tags in tqdm(files.values, miniters=1000):\n",
    "    arr = cv2.imread('../input/planets-dataset/test-jpg-additional/test-jpg-additional/{}.jpg'.format(image_name))\n",
    "    test_img.append(cv2.resize(arr, (64, 64)))\n",
    "\n",
    "test_img = np.array(test_img, np.float16)/255.0"
   ]
  },
  {
   "cell_type": "code",
   "execution_count": 32,
   "metadata": {
    "execution": {
     "iopub.execute_input": "2023-01-11T07:09:28.007499Z",
     "iopub.status.busy": "2023-01-11T07:09:28.007069Z",
     "iopub.status.idle": "2023-01-11T07:09:28.203248Z",
     "shell.execute_reply": "2023-01-11T07:09:28.201848Z",
     "shell.execute_reply.started": "2023-01-11T07:09:28.007465Z"
    }
   },
   "outputs": [
    {
     "data": {
      "text/plain": [
       "69"
      ]
     },
     "execution_count": 32,
     "metadata": {},
     "output_type": "execute_result"
    }
   ],
   "source": [
    "gc.collect()"
   ]
  },
  {
   "cell_type": "code",
   "execution_count": 33,
   "metadata": {
    "execution": {
     "iopub.execute_input": "2023-01-11T07:09:30.771260Z",
     "iopub.status.busy": "2023-01-11T07:09:30.770815Z",
     "iopub.status.idle": "2023-01-11T07:09:58.480352Z",
     "shell.execute_reply": "2023-01-11T07:09:58.478819Z",
     "shell.execute_reply.started": "2023-01-11T07:09:30.771224Z"
    }
   },
   "outputs": [
    {
     "name": "stdout",
     "output_type": "stream",
     "text": [
      "957/957 - 21s\n"
     ]
    }
   ],
   "source": [
    "#with tpu_strategy.scope():\n",
    "yres = []\n",
    "predictions = model.predict(test_img, batch_size = 64, verbose = 2)\n",
    "yres.append(predictions)"
   ]
  },
  {
   "cell_type": "code",
   "execution_count": 34,
   "metadata": {
    "execution": {
     "iopub.execute_input": "2023-01-11T07:10:03.508262Z",
     "iopub.status.busy": "2023-01-11T07:10:03.507755Z",
     "iopub.status.idle": "2023-01-11T07:10:03.885435Z",
     "shell.execute_reply": "2023-01-11T07:10:03.884253Z",
     "shell.execute_reply.started": "2023-01-11T07:10:03.508224Z"
    }
   },
   "outputs": [
    {
     "data": {
      "text/plain": [
       "790"
      ]
     },
     "execution_count": 34,
     "metadata": {},
     "output_type": "execute_result"
    }
   ],
   "source": [
    "gc.collect()"
   ]
  },
  {
   "cell_type": "code",
   "execution_count": 35,
   "metadata": {
    "execution": {
     "iopub.execute_input": "2023-01-11T07:10:06.288641Z",
     "iopub.status.busy": "2023-01-11T07:10:06.288194Z",
     "iopub.status.idle": "2023-01-11T07:10:06.297734Z",
     "shell.execute_reply": "2023-01-11T07:10:06.296352Z",
     "shell.execute_reply.started": "2023-01-11T07:10:06.288604Z"
    }
   },
   "outputs": [],
   "source": [
    "#converting my encoded labels back to it original form\n",
    "sub = np.array(yres[0])\n",
    "for i in range (1, len(yres)):\n",
    "    sub += np.array(yres[i])\n",
    "sub = pd.DataFrame(sub, columns = label_map)\n"
   ]
  },
  {
   "cell_type": "code",
   "execution_count": 36,
   "metadata": {
    "execution": {
     "iopub.execute_input": "2023-01-11T07:10:10.009188Z",
     "iopub.status.busy": "2023-01-11T07:10:10.008778Z",
     "iopub.status.idle": "2023-01-11T07:10:10.050304Z",
     "shell.execute_reply": "2023-01-11T07:10:10.048728Z",
     "shell.execute_reply.started": "2023-01-11T07:10:10.009157Z"
    }
   },
   "outputs": [
    {
     "data": {
      "text/html": [
       "<div>\n",
       "<style scoped>\n",
       "    .dataframe tbody tr th:only-of-type {\n",
       "        vertical-align: middle;\n",
       "    }\n",
       "\n",
       "    .dataframe tbody tr th {\n",
       "        vertical-align: top;\n",
       "    }\n",
       "\n",
       "    .dataframe thead th {\n",
       "        text-align: right;\n",
       "    }\n",
       "</style>\n",
       "<table border=\"1\" class=\"dataframe\">\n",
       "  <thead>\n",
       "    <tr style=\"text-align: right;\">\n",
       "      <th></th>\n",
       "      <th>agriculture</th>\n",
       "      <th>artisinal_mine</th>\n",
       "      <th>bare_ground</th>\n",
       "      <th>blooming</th>\n",
       "      <th>blow_down</th>\n",
       "      <th>clear</th>\n",
       "      <th>cloudy</th>\n",
       "      <th>conventional_mine</th>\n",
       "      <th>cultivation</th>\n",
       "      <th>habitation</th>\n",
       "      <th>haze</th>\n",
       "      <th>partly_cloudy</th>\n",
       "      <th>primary</th>\n",
       "      <th>road</th>\n",
       "      <th>selective_logging</th>\n",
       "      <th>slash_burn</th>\n",
       "      <th>water</th>\n",
       "    </tr>\n",
       "  </thead>\n",
       "  <tbody>\n",
       "    <tr>\n",
       "      <th>0</th>\n",
       "      <td>0.004219</td>\n",
       "      <td>9.889225e-13</td>\n",
       "      <td>2.206862e-04</td>\n",
       "      <td>2.118737e-02</td>\n",
       "      <td>1.887381e-04</td>\n",
       "      <td>9.989491e-01</td>\n",
       "      <td>1.135123e-05</td>\n",
       "      <td>1.801879e-13</td>\n",
       "      <td>2.438724e-04</td>\n",
       "      <td>7.297299e-05</td>\n",
       "      <td>1.350582e-03</td>\n",
       "      <td>5.357483e-06</td>\n",
       "      <td>0.999980</td>\n",
       "      <td>1.599818e-03</td>\n",
       "      <td>4.145950e-03</td>\n",
       "      <td>6.307321e-11</td>\n",
       "      <td>4.451305e-03</td>\n",
       "    </tr>\n",
       "    <tr>\n",
       "      <th>1</th>\n",
       "      <td>0.002653</td>\n",
       "      <td>5.361746e-17</td>\n",
       "      <td>3.896654e-04</td>\n",
       "      <td>7.783175e-04</td>\n",
       "      <td>6.388382e-05</td>\n",
       "      <td>9.936229e-01</td>\n",
       "      <td>1.405802e-08</td>\n",
       "      <td>3.087305e-11</td>\n",
       "      <td>2.954602e-04</td>\n",
       "      <td>3.780127e-04</td>\n",
       "      <td>6.343905e-05</td>\n",
       "      <td>5.857408e-03</td>\n",
       "      <td>1.000000</td>\n",
       "      <td>2.200112e-02</td>\n",
       "      <td>3.991872e-03</td>\n",
       "      <td>6.127926e-12</td>\n",
       "      <td>6.642133e-03</td>\n",
       "    </tr>\n",
       "    <tr>\n",
       "      <th>2</th>\n",
       "      <td>0.000051</td>\n",
       "      <td>5.406998e-16</td>\n",
       "      <td>1.381482e-14</td>\n",
       "      <td>4.329932e-18</td>\n",
       "      <td>3.563331e-09</td>\n",
       "      <td>6.970959e-07</td>\n",
       "      <td>5.524964e-14</td>\n",
       "      <td>2.013242e-07</td>\n",
       "      <td>1.830420e-08</td>\n",
       "      <td>1.951057e-19</td>\n",
       "      <td>7.678187e-15</td>\n",
       "      <td>1.000000e+00</td>\n",
       "      <td>1.000000</td>\n",
       "      <td>5.265280e-08</td>\n",
       "      <td>7.031927e-18</td>\n",
       "      <td>1.398157e-16</td>\n",
       "      <td>9.098262e-07</td>\n",
       "    </tr>\n",
       "    <tr>\n",
       "      <th>3</th>\n",
       "      <td>0.086665</td>\n",
       "      <td>8.539542e-10</td>\n",
       "      <td>4.958808e-04</td>\n",
       "      <td>4.948497e-03</td>\n",
       "      <td>6.805956e-04</td>\n",
       "      <td>3.467108e-01</td>\n",
       "      <td>4.070355e-08</td>\n",
       "      <td>1.448375e-10</td>\n",
       "      <td>5.220497e-02</td>\n",
       "      <td>4.137248e-03</td>\n",
       "      <td>3.930032e-04</td>\n",
       "      <td>6.606513e-01</td>\n",
       "      <td>1.000000</td>\n",
       "      <td>1.670182e-03</td>\n",
       "      <td>1.661122e-03</td>\n",
       "      <td>1.498179e-09</td>\n",
       "      <td>7.572472e-04</td>\n",
       "    </tr>\n",
       "    <tr>\n",
       "      <th>4</th>\n",
       "      <td>0.013722</td>\n",
       "      <td>1.070724e-17</td>\n",
       "      <td>1.241287e-14</td>\n",
       "      <td>2.297222e-28</td>\n",
       "      <td>2.432174e-24</td>\n",
       "      <td>3.419948e-06</td>\n",
       "      <td>1.032323e-03</td>\n",
       "      <td>7.675015e-10</td>\n",
       "      <td>6.526513e-09</td>\n",
       "      <td>4.514588e-09</td>\n",
       "      <td>6.884259e-11</td>\n",
       "      <td>9.953701e-01</td>\n",
       "      <td>0.978547</td>\n",
       "      <td>6.394982e-04</td>\n",
       "      <td>2.168931e-16</td>\n",
       "      <td>1.372165e-13</td>\n",
       "      <td>9.994837e-01</td>\n",
       "    </tr>\n",
       "    <tr>\n",
       "      <th>...</th>\n",
       "      <td>...</td>\n",
       "      <td>...</td>\n",
       "      <td>...</td>\n",
       "      <td>...</td>\n",
       "      <td>...</td>\n",
       "      <td>...</td>\n",
       "      <td>...</td>\n",
       "      <td>...</td>\n",
       "      <td>...</td>\n",
       "      <td>...</td>\n",
       "      <td>...</td>\n",
       "      <td>...</td>\n",
       "      <td>...</td>\n",
       "      <td>...</td>\n",
       "      <td>...</td>\n",
       "      <td>...</td>\n",
       "      <td>...</td>\n",
       "    </tr>\n",
       "    <tr>\n",
       "      <th>61186</th>\n",
       "      <td>0.000078</td>\n",
       "      <td>5.053287e-19</td>\n",
       "      <td>1.247695e-09</td>\n",
       "      <td>4.250575e-18</td>\n",
       "      <td>9.978343e-26</td>\n",
       "      <td>1.107603e-03</td>\n",
       "      <td>6.905466e-03</td>\n",
       "      <td>2.485451e-14</td>\n",
       "      <td>2.500207e-09</td>\n",
       "      <td>8.856267e-03</td>\n",
       "      <td>1.590921e-06</td>\n",
       "      <td>3.067651e-02</td>\n",
       "      <td>0.143395</td>\n",
       "      <td>9.569941e-01</td>\n",
       "      <td>1.969561e-15</td>\n",
       "      <td>4.591059e-19</td>\n",
       "      <td>1.713467e-02</td>\n",
       "    </tr>\n",
       "    <tr>\n",
       "      <th>61187</th>\n",
       "      <td>0.935881</td>\n",
       "      <td>3.000153e-15</td>\n",
       "      <td>2.102352e-07</td>\n",
       "      <td>1.762059e-14</td>\n",
       "      <td>1.340426e-16</td>\n",
       "      <td>9.999914e-01</td>\n",
       "      <td>1.197885e-07</td>\n",
       "      <td>1.015662e-09</td>\n",
       "      <td>4.421785e-01</td>\n",
       "      <td>3.353119e-03</td>\n",
       "      <td>1.536248e-06</td>\n",
       "      <td>6.849113e-09</td>\n",
       "      <td>0.999992</td>\n",
       "      <td>1.975000e-04</td>\n",
       "      <td>2.229045e-10</td>\n",
       "      <td>7.566009e-05</td>\n",
       "      <td>9.999119e-01</td>\n",
       "    </tr>\n",
       "    <tr>\n",
       "      <th>61188</th>\n",
       "      <td>0.089203</td>\n",
       "      <td>1.934194e-15</td>\n",
       "      <td>8.324797e-06</td>\n",
       "      <td>7.793427e-03</td>\n",
       "      <td>4.502271e-05</td>\n",
       "      <td>9.987239e-01</td>\n",
       "      <td>2.467499e-09</td>\n",
       "      <td>4.360570e-15</td>\n",
       "      <td>6.736431e-02</td>\n",
       "      <td>1.857957e-05</td>\n",
       "      <td>4.284354e-05</td>\n",
       "      <td>2.917051e-04</td>\n",
       "      <td>1.000000</td>\n",
       "      <td>6.988458e-05</td>\n",
       "      <td>2.089071e-05</td>\n",
       "      <td>2.443423e-12</td>\n",
       "      <td>1.580119e-04</td>\n",
       "    </tr>\n",
       "    <tr>\n",
       "      <th>61189</th>\n",
       "      <td>0.002830</td>\n",
       "      <td>8.756841e-13</td>\n",
       "      <td>8.690323e-12</td>\n",
       "      <td>1.376859e-15</td>\n",
       "      <td>6.557957e-17</td>\n",
       "      <td>3.052384e-03</td>\n",
       "      <td>9.292792e-01</td>\n",
       "      <td>2.591388e-16</td>\n",
       "      <td>6.683469e-04</td>\n",
       "      <td>1.515746e-04</td>\n",
       "      <td>6.355450e-02</td>\n",
       "      <td>4.989203e-07</td>\n",
       "      <td>0.052851</td>\n",
       "      <td>1.732796e-03</td>\n",
       "      <td>2.021580e-13</td>\n",
       "      <td>8.547051e-18</td>\n",
       "      <td>5.542099e-03</td>\n",
       "    </tr>\n",
       "    <tr>\n",
       "      <th>61190</th>\n",
       "      <td>0.016474</td>\n",
       "      <td>1.434137e-06</td>\n",
       "      <td>5.647194e-02</td>\n",
       "      <td>3.026478e-14</td>\n",
       "      <td>1.851269e-15</td>\n",
       "      <td>9.944746e-01</td>\n",
       "      <td>6.555521e-02</td>\n",
       "      <td>3.091579e-06</td>\n",
       "      <td>1.488775e-03</td>\n",
       "      <td>9.999355e-01</td>\n",
       "      <td>4.590479e-02</td>\n",
       "      <td>8.959702e-05</td>\n",
       "      <td>0.042417</td>\n",
       "      <td>9.998143e-01</td>\n",
       "      <td>2.243572e-06</td>\n",
       "      <td>3.607424e-10</td>\n",
       "      <td>1.522455e-02</td>\n",
       "    </tr>\n",
       "  </tbody>\n",
       "</table>\n",
       "<p>61191 rows × 17 columns</p>\n",
       "</div>"
      ],
      "text/plain": [
       "       agriculture  artisinal_mine   bare_ground      blooming     blow_down  \\\n",
       "0         0.004219    9.889225e-13  2.206862e-04  2.118737e-02  1.887381e-04   \n",
       "1         0.002653    5.361746e-17  3.896654e-04  7.783175e-04  6.388382e-05   \n",
       "2         0.000051    5.406998e-16  1.381482e-14  4.329932e-18  3.563331e-09   \n",
       "3         0.086665    8.539542e-10  4.958808e-04  4.948497e-03  6.805956e-04   \n",
       "4         0.013722    1.070724e-17  1.241287e-14  2.297222e-28  2.432174e-24   \n",
       "...            ...             ...           ...           ...           ...   \n",
       "61186     0.000078    5.053287e-19  1.247695e-09  4.250575e-18  9.978343e-26   \n",
       "61187     0.935881    3.000153e-15  2.102352e-07  1.762059e-14  1.340426e-16   \n",
       "61188     0.089203    1.934194e-15  8.324797e-06  7.793427e-03  4.502271e-05   \n",
       "61189     0.002830    8.756841e-13  8.690323e-12  1.376859e-15  6.557957e-17   \n",
       "61190     0.016474    1.434137e-06  5.647194e-02  3.026478e-14  1.851269e-15   \n",
       "\n",
       "              clear        cloudy  conventional_mine   cultivation  \\\n",
       "0      9.989491e-01  1.135123e-05       1.801879e-13  2.438724e-04   \n",
       "1      9.936229e-01  1.405802e-08       3.087305e-11  2.954602e-04   \n",
       "2      6.970959e-07  5.524964e-14       2.013242e-07  1.830420e-08   \n",
       "3      3.467108e-01  4.070355e-08       1.448375e-10  5.220497e-02   \n",
       "4      3.419948e-06  1.032323e-03       7.675015e-10  6.526513e-09   \n",
       "...             ...           ...                ...           ...   \n",
       "61186  1.107603e-03  6.905466e-03       2.485451e-14  2.500207e-09   \n",
       "61187  9.999914e-01  1.197885e-07       1.015662e-09  4.421785e-01   \n",
       "61188  9.987239e-01  2.467499e-09       4.360570e-15  6.736431e-02   \n",
       "61189  3.052384e-03  9.292792e-01       2.591388e-16  6.683469e-04   \n",
       "61190  9.944746e-01  6.555521e-02       3.091579e-06  1.488775e-03   \n",
       "\n",
       "         habitation          haze  partly_cloudy   primary          road  \\\n",
       "0      7.297299e-05  1.350582e-03   5.357483e-06  0.999980  1.599818e-03   \n",
       "1      3.780127e-04  6.343905e-05   5.857408e-03  1.000000  2.200112e-02   \n",
       "2      1.951057e-19  7.678187e-15   1.000000e+00  1.000000  5.265280e-08   \n",
       "3      4.137248e-03  3.930032e-04   6.606513e-01  1.000000  1.670182e-03   \n",
       "4      4.514588e-09  6.884259e-11   9.953701e-01  0.978547  6.394982e-04   \n",
       "...             ...           ...            ...       ...           ...   \n",
       "61186  8.856267e-03  1.590921e-06   3.067651e-02  0.143395  9.569941e-01   \n",
       "61187  3.353119e-03  1.536248e-06   6.849113e-09  0.999992  1.975000e-04   \n",
       "61188  1.857957e-05  4.284354e-05   2.917051e-04  1.000000  6.988458e-05   \n",
       "61189  1.515746e-04  6.355450e-02   4.989203e-07  0.052851  1.732796e-03   \n",
       "61190  9.999355e-01  4.590479e-02   8.959702e-05  0.042417  9.998143e-01   \n",
       "\n",
       "       selective_logging    slash_burn         water  \n",
       "0           4.145950e-03  6.307321e-11  4.451305e-03  \n",
       "1           3.991872e-03  6.127926e-12  6.642133e-03  \n",
       "2           7.031927e-18  1.398157e-16  9.098262e-07  \n",
       "3           1.661122e-03  1.498179e-09  7.572472e-04  \n",
       "4           2.168931e-16  1.372165e-13  9.994837e-01  \n",
       "...                  ...           ...           ...  \n",
       "61186       1.969561e-15  4.591059e-19  1.713467e-02  \n",
       "61187       2.229045e-10  7.566009e-05  9.999119e-01  \n",
       "61188       2.089071e-05  2.443423e-12  1.580119e-04  \n",
       "61189       2.021580e-13  8.547051e-18  5.542099e-03  \n",
       "61190       2.243572e-06  3.607424e-10  1.522455e-02  \n",
       "\n",
       "[61191 rows x 17 columns]"
      ]
     },
     "execution_count": 36,
     "metadata": {},
     "output_type": "execute_result"
    }
   ],
   "source": [
    "sub"
   ]
  },
  {
   "cell_type": "code",
   "execution_count": 37,
   "metadata": {
    "execution": {
     "iopub.execute_input": "2023-01-11T07:10:13.635108Z",
     "iopub.status.busy": "2023-01-11T07:10:13.634695Z",
     "iopub.status.idle": "2023-01-11T07:12:07.319415Z",
     "shell.execute_reply": "2023-01-11T07:12:07.318161Z",
     "shell.execute_reply.started": "2023-01-11T07:10:13.635075Z"
    }
   },
   "outputs": [
    {
     "name": "stderr",
     "output_type": "stream",
     "text": [
      "100%|██████████| 61191/61191 [01:53<00:00, 538.85it/s]\n"
     ]
    }
   ],
   "source": [
    "preds = []\n",
    "for i in tqdm(range(sub.shape[0]), miniters=1000):\n",
    "    a = sub.loc[[i]]\n",
    "    a = a.apply(lambda x: x > 0.2, axis=1)\n",
    "    a = a.transpose()\n",
    "    a= a.loc[a[i] == True]\n",
    "    ' '.join(list(a.index))\n",
    "    preds.append(' '.join(list(a.index)))\n",
    "\n",
    "sam_sub['tags'] = preds\n",
    "sam_sub.to_csv('subm.csv', index=False)"
   ]
  },
  {
   "cell_type": "markdown",
   "metadata": {
    "execution": {
     "iopub.status.busy": "2023-01-11T06:27:37.959506Z",
     "iopub.status.idle": "2023-01-11T06:27:37.960073Z",
     "shell.execute_reply": "2023-01-11T06:27:37.959816Z",
     "shell.execute_reply.started": "2023-01-11T06:27:37.959789Z"
    }
   },
   "source": [
    "# Now, we have saved the result into the final submission file(csv)  "
   ]
  }
 ],
 "metadata": {
  "kernelspec": {
   "display_name": "Python 3 (ipykernel)",
   "language": "python",
   "name": "python3"
  },
  "language_info": {
   "codemirror_mode": {
    "name": "ipython",
    "version": 3
   },
   "file_extension": ".py",
   "mimetype": "text/x-python",
   "name": "python",
   "nbconvert_exporter": "python",
   "pygments_lexer": "ipython3",
   "version": "3.9.12"
  }
 },
 "nbformat": 4,
 "nbformat_minor": 4
}
