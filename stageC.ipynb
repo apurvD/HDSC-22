{
 "cells": [
  {
   "cell_type": "markdown",
   "id": "43a12290",
   "metadata": {},
   "source": [
    "# HDSC Fall 2022 \n",
    "# stage C Tag Along Code\n",
    "# Apurv Deshpande"
   ]
  },
  {
   "cell_type": "code",
   "execution_count": 1,
   "id": "4e0db24b",
   "metadata": {},
   "outputs": [],
   "source": [
    "#importing libraries\n",
    "import numpy as np\n",
    "import pandas as pd\n",
    "import matplotlib.pyplot as plt\n",
    "import seaborn as sns\n",
    "import warnings\n",
    "warnings.filterwarnings(\"ignore\")"
   ]
  },
  {
   "cell_type": "code",
   "execution_count": 2,
   "id": "0751604a",
   "metadata": {},
   "outputs": [
    {
     "data": {
      "text/html": [
       "<div>\n",
       "<style scoped>\n",
       "    .dataframe tbody tr th:only-of-type {\n",
       "        vertical-align: middle;\n",
       "    }\n",
       "\n",
       "    .dataframe tbody tr th {\n",
       "        vertical-align: top;\n",
       "    }\n",
       "\n",
       "    .dataframe thead th {\n",
       "        text-align: right;\n",
       "    }\n",
       "</style>\n",
       "<table border=\"1\" class=\"dataframe\">\n",
       "  <thead>\n",
       "    <tr style=\"text-align: right;\">\n",
       "      <th></th>\n",
       "      <th>tau1</th>\n",
       "      <th>tau2</th>\n",
       "      <th>tau3</th>\n",
       "      <th>tau4</th>\n",
       "      <th>p1</th>\n",
       "      <th>p2</th>\n",
       "      <th>p3</th>\n",
       "      <th>p4</th>\n",
       "      <th>g1</th>\n",
       "      <th>g2</th>\n",
       "      <th>g3</th>\n",
       "      <th>g4</th>\n",
       "      <th>stab</th>\n",
       "      <th>stabf</th>\n",
       "    </tr>\n",
       "  </thead>\n",
       "  <tbody>\n",
       "    <tr>\n",
       "      <th>0</th>\n",
       "      <td>2.959060</td>\n",
       "      <td>3.079885</td>\n",
       "      <td>8.381025</td>\n",
       "      <td>9.780754</td>\n",
       "      <td>3.763085</td>\n",
       "      <td>-0.782604</td>\n",
       "      <td>-1.257395</td>\n",
       "      <td>-1.723086</td>\n",
       "      <td>0.650456</td>\n",
       "      <td>0.859578</td>\n",
       "      <td>0.887445</td>\n",
       "      <td>0.958034</td>\n",
       "      <td>0.055347</td>\n",
       "      <td>unstable</td>\n",
       "    </tr>\n",
       "    <tr>\n",
       "      <th>1</th>\n",
       "      <td>9.304097</td>\n",
       "      <td>4.902524</td>\n",
       "      <td>3.047541</td>\n",
       "      <td>1.369357</td>\n",
       "      <td>5.067812</td>\n",
       "      <td>-1.940058</td>\n",
       "      <td>-1.872742</td>\n",
       "      <td>-1.255012</td>\n",
       "      <td>0.413441</td>\n",
       "      <td>0.862414</td>\n",
       "      <td>0.562139</td>\n",
       "      <td>0.781760</td>\n",
       "      <td>-0.005957</td>\n",
       "      <td>stable</td>\n",
       "    </tr>\n",
       "    <tr>\n",
       "      <th>2</th>\n",
       "      <td>8.971707</td>\n",
       "      <td>8.848428</td>\n",
       "      <td>3.046479</td>\n",
       "      <td>1.214518</td>\n",
       "      <td>3.405158</td>\n",
       "      <td>-1.207456</td>\n",
       "      <td>-1.277210</td>\n",
       "      <td>-0.920492</td>\n",
       "      <td>0.163041</td>\n",
       "      <td>0.766689</td>\n",
       "      <td>0.839444</td>\n",
       "      <td>0.109853</td>\n",
       "      <td>0.003471</td>\n",
       "      <td>unstable</td>\n",
       "    </tr>\n",
       "    <tr>\n",
       "      <th>3</th>\n",
       "      <td>0.716415</td>\n",
       "      <td>7.669600</td>\n",
       "      <td>4.486641</td>\n",
       "      <td>2.340563</td>\n",
       "      <td>3.963791</td>\n",
       "      <td>-1.027473</td>\n",
       "      <td>-1.938944</td>\n",
       "      <td>-0.997374</td>\n",
       "      <td>0.446209</td>\n",
       "      <td>0.976744</td>\n",
       "      <td>0.929381</td>\n",
       "      <td>0.362718</td>\n",
       "      <td>0.028871</td>\n",
       "      <td>unstable</td>\n",
       "    </tr>\n",
       "    <tr>\n",
       "      <th>4</th>\n",
       "      <td>3.134112</td>\n",
       "      <td>7.608772</td>\n",
       "      <td>4.943759</td>\n",
       "      <td>9.857573</td>\n",
       "      <td>3.525811</td>\n",
       "      <td>-1.125531</td>\n",
       "      <td>-1.845975</td>\n",
       "      <td>-0.554305</td>\n",
       "      <td>0.797110</td>\n",
       "      <td>0.455450</td>\n",
       "      <td>0.656947</td>\n",
       "      <td>0.820923</td>\n",
       "      <td>0.049860</td>\n",
       "      <td>unstable</td>\n",
       "    </tr>\n",
       "    <tr>\n",
       "      <th>...</th>\n",
       "      <td>...</td>\n",
       "      <td>...</td>\n",
       "      <td>...</td>\n",
       "      <td>...</td>\n",
       "      <td>...</td>\n",
       "      <td>...</td>\n",
       "      <td>...</td>\n",
       "      <td>...</td>\n",
       "      <td>...</td>\n",
       "      <td>...</td>\n",
       "      <td>...</td>\n",
       "      <td>...</td>\n",
       "      <td>...</td>\n",
       "      <td>...</td>\n",
       "    </tr>\n",
       "    <tr>\n",
       "      <th>9995</th>\n",
       "      <td>2.930406</td>\n",
       "      <td>9.487627</td>\n",
       "      <td>2.376523</td>\n",
       "      <td>6.187797</td>\n",
       "      <td>3.343416</td>\n",
       "      <td>-0.658054</td>\n",
       "      <td>-1.449106</td>\n",
       "      <td>-1.236256</td>\n",
       "      <td>0.601709</td>\n",
       "      <td>0.779642</td>\n",
       "      <td>0.813512</td>\n",
       "      <td>0.608385</td>\n",
       "      <td>0.023892</td>\n",
       "      <td>unstable</td>\n",
       "    </tr>\n",
       "    <tr>\n",
       "      <th>9996</th>\n",
       "      <td>3.392299</td>\n",
       "      <td>1.274827</td>\n",
       "      <td>2.954947</td>\n",
       "      <td>6.894759</td>\n",
       "      <td>4.349512</td>\n",
       "      <td>-1.663661</td>\n",
       "      <td>-0.952437</td>\n",
       "      <td>-1.733414</td>\n",
       "      <td>0.502079</td>\n",
       "      <td>0.567242</td>\n",
       "      <td>0.285880</td>\n",
       "      <td>0.366120</td>\n",
       "      <td>-0.025803</td>\n",
       "      <td>stable</td>\n",
       "    </tr>\n",
       "    <tr>\n",
       "      <th>9997</th>\n",
       "      <td>2.364034</td>\n",
       "      <td>2.842030</td>\n",
       "      <td>8.776391</td>\n",
       "      <td>1.008906</td>\n",
       "      <td>4.299976</td>\n",
       "      <td>-1.380719</td>\n",
       "      <td>-0.943884</td>\n",
       "      <td>-1.975373</td>\n",
       "      <td>0.487838</td>\n",
       "      <td>0.986505</td>\n",
       "      <td>0.149286</td>\n",
       "      <td>0.145984</td>\n",
       "      <td>-0.031810</td>\n",
       "      <td>stable</td>\n",
       "    </tr>\n",
       "    <tr>\n",
       "      <th>9998</th>\n",
       "      <td>9.631511</td>\n",
       "      <td>3.994398</td>\n",
       "      <td>2.757071</td>\n",
       "      <td>7.821347</td>\n",
       "      <td>2.514755</td>\n",
       "      <td>-0.966330</td>\n",
       "      <td>-0.649915</td>\n",
       "      <td>-0.898510</td>\n",
       "      <td>0.365246</td>\n",
       "      <td>0.587558</td>\n",
       "      <td>0.889118</td>\n",
       "      <td>0.818391</td>\n",
       "      <td>0.037789</td>\n",
       "      <td>unstable</td>\n",
       "    </tr>\n",
       "    <tr>\n",
       "      <th>9999</th>\n",
       "      <td>6.530527</td>\n",
       "      <td>6.781790</td>\n",
       "      <td>4.349695</td>\n",
       "      <td>8.673138</td>\n",
       "      <td>3.492807</td>\n",
       "      <td>-1.390285</td>\n",
       "      <td>-1.532193</td>\n",
       "      <td>-0.570329</td>\n",
       "      <td>0.073056</td>\n",
       "      <td>0.505441</td>\n",
       "      <td>0.378761</td>\n",
       "      <td>0.942631</td>\n",
       "      <td>0.045263</td>\n",
       "      <td>unstable</td>\n",
       "    </tr>\n",
       "  </tbody>\n",
       "</table>\n",
       "<p>10000 rows × 14 columns</p>\n",
       "</div>"
      ],
      "text/plain": [
       "          tau1      tau2      tau3      tau4        p1        p2        p3  \\\n",
       "0     2.959060  3.079885  8.381025  9.780754  3.763085 -0.782604 -1.257395   \n",
       "1     9.304097  4.902524  3.047541  1.369357  5.067812 -1.940058 -1.872742   \n",
       "2     8.971707  8.848428  3.046479  1.214518  3.405158 -1.207456 -1.277210   \n",
       "3     0.716415  7.669600  4.486641  2.340563  3.963791 -1.027473 -1.938944   \n",
       "4     3.134112  7.608772  4.943759  9.857573  3.525811 -1.125531 -1.845975   \n",
       "...        ...       ...       ...       ...       ...       ...       ...   \n",
       "9995  2.930406  9.487627  2.376523  6.187797  3.343416 -0.658054 -1.449106   \n",
       "9996  3.392299  1.274827  2.954947  6.894759  4.349512 -1.663661 -0.952437   \n",
       "9997  2.364034  2.842030  8.776391  1.008906  4.299976 -1.380719 -0.943884   \n",
       "9998  9.631511  3.994398  2.757071  7.821347  2.514755 -0.966330 -0.649915   \n",
       "9999  6.530527  6.781790  4.349695  8.673138  3.492807 -1.390285 -1.532193   \n",
       "\n",
       "            p4        g1        g2        g3        g4      stab     stabf  \n",
       "0    -1.723086  0.650456  0.859578  0.887445  0.958034  0.055347  unstable  \n",
       "1    -1.255012  0.413441  0.862414  0.562139  0.781760 -0.005957    stable  \n",
       "2    -0.920492  0.163041  0.766689  0.839444  0.109853  0.003471  unstable  \n",
       "3    -0.997374  0.446209  0.976744  0.929381  0.362718  0.028871  unstable  \n",
       "4    -0.554305  0.797110  0.455450  0.656947  0.820923  0.049860  unstable  \n",
       "...        ...       ...       ...       ...       ...       ...       ...  \n",
       "9995 -1.236256  0.601709  0.779642  0.813512  0.608385  0.023892  unstable  \n",
       "9996 -1.733414  0.502079  0.567242  0.285880  0.366120 -0.025803    stable  \n",
       "9997 -1.975373  0.487838  0.986505  0.149286  0.145984 -0.031810    stable  \n",
       "9998 -0.898510  0.365246  0.587558  0.889118  0.818391  0.037789  unstable  \n",
       "9999 -0.570329  0.073056  0.505441  0.378761  0.942631  0.045263  unstable  \n",
       "\n",
       "[10000 rows x 14 columns]"
      ]
     },
     "execution_count": 2,
     "metadata": {},
     "output_type": "execute_result"
    }
   ],
   "source": [
    "df = pd.read_csv(\"Data_for_UCI_named.csv\")\n",
    "df"
   ]
  },
  {
   "cell_type": "code",
   "execution_count": 3,
   "id": "20e8e6b1",
   "metadata": {},
   "outputs": [
    {
     "name": "stdout",
     "output_type": "stream",
     "text": [
      "<class 'pandas.core.frame.DataFrame'>\n",
      "RangeIndex: 10000 entries, 0 to 9999\n",
      "Data columns (total 14 columns):\n",
      " #   Column  Non-Null Count  Dtype  \n",
      "---  ------  --------------  -----  \n",
      " 0   tau1    10000 non-null  float64\n",
      " 1   tau2    10000 non-null  float64\n",
      " 2   tau3    10000 non-null  float64\n",
      " 3   tau4    10000 non-null  float64\n",
      " 4   p1      10000 non-null  float64\n",
      " 5   p2      10000 non-null  float64\n",
      " 6   p3      10000 non-null  float64\n",
      " 7   p4      10000 non-null  float64\n",
      " 8   g1      10000 non-null  float64\n",
      " 9   g2      10000 non-null  float64\n",
      " 10  g3      10000 non-null  float64\n",
      " 11  g4      10000 non-null  float64\n",
      " 12  stab    10000 non-null  float64\n",
      " 13  stabf   10000 non-null  object \n",
      "dtypes: float64(13), object(1)\n",
      "memory usage: 1.1+ MB\n"
     ]
    }
   ],
   "source": [
    "df.info()"
   ]
  },
  {
   "cell_type": "code",
   "execution_count": 4,
   "id": "82f63adf",
   "metadata": {},
   "outputs": [
    {
     "data": {
      "text/plain": [
       "tau1     0\n",
       "tau2     0\n",
       "tau3     0\n",
       "tau4     0\n",
       "p1       0\n",
       "p2       0\n",
       "p3       0\n",
       "p4       0\n",
       "g1       0\n",
       "g2       0\n",
       "g3       0\n",
       "g4       0\n",
       "stab     0\n",
       "stabf    0\n",
       "dtype: int64"
      ]
     },
     "execution_count": 4,
     "metadata": {},
     "output_type": "execute_result"
    }
   ],
   "source": [
    "df.isnull().sum()"
   ]
  },
  {
   "cell_type": "code",
   "execution_count": 5,
   "id": "536edec2",
   "metadata": {},
   "outputs": [
    {
     "data": {
      "text/plain": [
       "tau1     0\n",
       "tau2     0\n",
       "tau3     0\n",
       "tau4     0\n",
       "p1       0\n",
       "p2       0\n",
       "p3       0\n",
       "p4       0\n",
       "g1       0\n",
       "g2       0\n",
       "g3       0\n",
       "g4       0\n",
       "stab     0\n",
       "stabf    0\n",
       "dtype: int64"
      ]
     },
     "execution_count": 5,
     "metadata": {},
     "output_type": "execute_result"
    }
   ],
   "source": [
    "df.isna().sum()"
   ]
  },
  {
   "cell_type": "code",
   "execution_count": 6,
   "id": "f976210c",
   "metadata": {},
   "outputs": [],
   "source": [
    "# data looks good, we are ready to move on"
   ]
  },
  {
   "cell_type": "code",
   "execution_count": 7,
   "id": "10d61998",
   "metadata": {},
   "outputs": [
    {
     "data": {
      "text/html": [
       "<div>\n",
       "<style scoped>\n",
       "    .dataframe tbody tr th:only-of-type {\n",
       "        vertical-align: middle;\n",
       "    }\n",
       "\n",
       "    .dataframe tbody tr th {\n",
       "        vertical-align: top;\n",
       "    }\n",
       "\n",
       "    .dataframe thead th {\n",
       "        text-align: right;\n",
       "    }\n",
       "</style>\n",
       "<table border=\"1\" class=\"dataframe\">\n",
       "  <thead>\n",
       "    <tr style=\"text-align: right;\">\n",
       "      <th></th>\n",
       "      <th>count</th>\n",
       "      <th>mean</th>\n",
       "      <th>std</th>\n",
       "      <th>min</th>\n",
       "      <th>25%</th>\n",
       "      <th>50%</th>\n",
       "      <th>75%</th>\n",
       "      <th>max</th>\n",
       "    </tr>\n",
       "  </thead>\n",
       "  <tbody>\n",
       "    <tr>\n",
       "      <th>tau1</th>\n",
       "      <td>10000.0</td>\n",
       "      <td>5.250000</td>\n",
       "      <td>2.742548</td>\n",
       "      <td>0.500793</td>\n",
       "      <td>2.874892</td>\n",
       "      <td>5.250004</td>\n",
       "      <td>7.624690</td>\n",
       "      <td>9.999469</td>\n",
       "    </tr>\n",
       "    <tr>\n",
       "      <th>tau2</th>\n",
       "      <td>10000.0</td>\n",
       "      <td>5.250001</td>\n",
       "      <td>2.742549</td>\n",
       "      <td>0.500141</td>\n",
       "      <td>2.875140</td>\n",
       "      <td>5.249981</td>\n",
       "      <td>7.624893</td>\n",
       "      <td>9.999837</td>\n",
       "    </tr>\n",
       "    <tr>\n",
       "      <th>tau3</th>\n",
       "      <td>10000.0</td>\n",
       "      <td>5.250004</td>\n",
       "      <td>2.742549</td>\n",
       "      <td>0.500788</td>\n",
       "      <td>2.875522</td>\n",
       "      <td>5.249979</td>\n",
       "      <td>7.624948</td>\n",
       "      <td>9.999450</td>\n",
       "    </tr>\n",
       "    <tr>\n",
       "      <th>tau4</th>\n",
       "      <td>10000.0</td>\n",
       "      <td>5.249997</td>\n",
       "      <td>2.742556</td>\n",
       "      <td>0.500473</td>\n",
       "      <td>2.874950</td>\n",
       "      <td>5.249734</td>\n",
       "      <td>7.624838</td>\n",
       "      <td>9.999443</td>\n",
       "    </tr>\n",
       "    <tr>\n",
       "      <th>p1</th>\n",
       "      <td>10000.0</td>\n",
       "      <td>3.750000</td>\n",
       "      <td>0.752160</td>\n",
       "      <td>1.582590</td>\n",
       "      <td>3.218300</td>\n",
       "      <td>3.751025</td>\n",
       "      <td>4.282420</td>\n",
       "      <td>5.864418</td>\n",
       "    </tr>\n",
       "    <tr>\n",
       "      <th>p2</th>\n",
       "      <td>10000.0</td>\n",
       "      <td>-1.250000</td>\n",
       "      <td>0.433035</td>\n",
       "      <td>-1.999891</td>\n",
       "      <td>-1.624901</td>\n",
       "      <td>-1.249966</td>\n",
       "      <td>-0.874977</td>\n",
       "      <td>-0.500108</td>\n",
       "    </tr>\n",
       "    <tr>\n",
       "      <th>p3</th>\n",
       "      <td>10000.0</td>\n",
       "      <td>-1.250000</td>\n",
       "      <td>0.433035</td>\n",
       "      <td>-1.999945</td>\n",
       "      <td>-1.625025</td>\n",
       "      <td>-1.249974</td>\n",
       "      <td>-0.875043</td>\n",
       "      <td>-0.500072</td>\n",
       "    </tr>\n",
       "    <tr>\n",
       "      <th>p4</th>\n",
       "      <td>10000.0</td>\n",
       "      <td>-1.250000</td>\n",
       "      <td>0.433035</td>\n",
       "      <td>-1.999926</td>\n",
       "      <td>-1.624960</td>\n",
       "      <td>-1.250007</td>\n",
       "      <td>-0.875065</td>\n",
       "      <td>-0.500025</td>\n",
       "    </tr>\n",
       "    <tr>\n",
       "      <th>g1</th>\n",
       "      <td>10000.0</td>\n",
       "      <td>0.525000</td>\n",
       "      <td>0.274256</td>\n",
       "      <td>0.050009</td>\n",
       "      <td>0.287521</td>\n",
       "      <td>0.525009</td>\n",
       "      <td>0.762435</td>\n",
       "      <td>0.999937</td>\n",
       "    </tr>\n",
       "    <tr>\n",
       "      <th>g2</th>\n",
       "      <td>10000.0</td>\n",
       "      <td>0.525000</td>\n",
       "      <td>0.274255</td>\n",
       "      <td>0.050053</td>\n",
       "      <td>0.287552</td>\n",
       "      <td>0.525003</td>\n",
       "      <td>0.762490</td>\n",
       "      <td>0.999944</td>\n",
       "    </tr>\n",
       "    <tr>\n",
       "      <th>g3</th>\n",
       "      <td>10000.0</td>\n",
       "      <td>0.525000</td>\n",
       "      <td>0.274255</td>\n",
       "      <td>0.050054</td>\n",
       "      <td>0.287514</td>\n",
       "      <td>0.525015</td>\n",
       "      <td>0.762440</td>\n",
       "      <td>0.999982</td>\n",
       "    </tr>\n",
       "    <tr>\n",
       "      <th>g4</th>\n",
       "      <td>10000.0</td>\n",
       "      <td>0.525000</td>\n",
       "      <td>0.274255</td>\n",
       "      <td>0.050028</td>\n",
       "      <td>0.287494</td>\n",
       "      <td>0.525002</td>\n",
       "      <td>0.762433</td>\n",
       "      <td>0.999930</td>\n",
       "    </tr>\n",
       "    <tr>\n",
       "      <th>stab</th>\n",
       "      <td>10000.0</td>\n",
       "      <td>0.015731</td>\n",
       "      <td>0.036919</td>\n",
       "      <td>-0.080760</td>\n",
       "      <td>-0.015557</td>\n",
       "      <td>0.017142</td>\n",
       "      <td>0.044878</td>\n",
       "      <td>0.109403</td>\n",
       "    </tr>\n",
       "  </tbody>\n",
       "</table>\n",
       "</div>"
      ],
      "text/plain": [
       "        count      mean       std       min       25%       50%       75%  \\\n",
       "tau1  10000.0  5.250000  2.742548  0.500793  2.874892  5.250004  7.624690   \n",
       "tau2  10000.0  5.250001  2.742549  0.500141  2.875140  5.249981  7.624893   \n",
       "tau3  10000.0  5.250004  2.742549  0.500788  2.875522  5.249979  7.624948   \n",
       "tau4  10000.0  5.249997  2.742556  0.500473  2.874950  5.249734  7.624838   \n",
       "p1    10000.0  3.750000  0.752160  1.582590  3.218300  3.751025  4.282420   \n",
       "p2    10000.0 -1.250000  0.433035 -1.999891 -1.624901 -1.249966 -0.874977   \n",
       "p3    10000.0 -1.250000  0.433035 -1.999945 -1.625025 -1.249974 -0.875043   \n",
       "p4    10000.0 -1.250000  0.433035 -1.999926 -1.624960 -1.250007 -0.875065   \n",
       "g1    10000.0  0.525000  0.274256  0.050009  0.287521  0.525009  0.762435   \n",
       "g2    10000.0  0.525000  0.274255  0.050053  0.287552  0.525003  0.762490   \n",
       "g3    10000.0  0.525000  0.274255  0.050054  0.287514  0.525015  0.762440   \n",
       "g4    10000.0  0.525000  0.274255  0.050028  0.287494  0.525002  0.762433   \n",
       "stab  10000.0  0.015731  0.036919 -0.080760 -0.015557  0.017142  0.044878   \n",
       "\n",
       "           max  \n",
       "tau1  9.999469  \n",
       "tau2  9.999837  \n",
       "tau3  9.999450  \n",
       "tau4  9.999443  \n",
       "p1    5.864418  \n",
       "p2   -0.500108  \n",
       "p3   -0.500072  \n",
       "p4   -0.500025  \n",
       "g1    0.999937  \n",
       "g2    0.999944  \n",
       "g3    0.999982  \n",
       "g4    0.999930  \n",
       "stab  0.109403  "
      ]
     },
     "execution_count": 7,
     "metadata": {},
     "output_type": "execute_result"
    }
   ],
   "source": [
    "df.describe().T"
   ]
  },
  {
   "cell_type": "markdown",
   "id": "1937b056",
   "metadata": {},
   "source": [
    "# Q1 answer : TN=96%, FP=4%, FN=10%, TP=90%\n",
    "### Q2 answer : 0.2635\n",
    "### Q3 answer : Underfitting\n",
    "### Q4 answer : RMSE value \n",
    "### Q5 answer : To prevent overfitting\n",
    "### Q6 answer : bagging and boosting \n",
    "### Q7 answer : recall, precision and f1 score \n",
    "### Q8 answer : The model has no discrimination capacity to differentiate between the positive and the negative class\n",
    "### Q9 answer : 8\n",
    "### Q10 answer : Generate synthetic samples/data using SMOTE \n",
    "### Q11 answer : One-hot encoding \n",
    "### Q12 answer : 4/7 log(3/7) + 3/7 log(4/7) \n",
    "### Q13 answer : Accuracy"
   ]
  },
  {
   "cell_type": "code",
   "execution_count": 8,
   "id": "0baa9878",
   "metadata": {},
   "outputs": [],
   "source": [
    "#for splitting and encoding\n",
    "from sklearn.model_selection import train_test_split\n",
    "from sklearn.preprocessing import LabelEncoder, OneHotEncoder"
   ]
  },
  {
   "cell_type": "code",
   "execution_count": 9,
   "id": "d97f67f7",
   "metadata": {},
   "outputs": [],
   "source": [
    "from sklearn.tree import DecisionTreeClassifier \n",
    "from sklearn.linear_model import LogisticRegression\n",
    "from sklearn.ensemble import RandomForestClassifier\n",
    "from sklearn.ensemble import ExtraTreesClassifier\n",
    "from sklearn.ensemble import GradientBoostingClassifier\n",
    "from xgboost import XGBClassifier\n",
    "import lightgbm as lgb"
   ]
  },
  {
   "cell_type": "code",
   "execution_count": 10,
   "id": "50427d1a",
   "metadata": {},
   "outputs": [],
   "source": [
    "from sklearn import preprocessing\n",
    "df = df.drop(['stab'], axis=1)\n",
    "le = preprocessing.LabelEncoder()\n",
    "df['stabf'] = le.fit_transform(df['stabf'])"
   ]
  },
  {
   "cell_type": "code",
   "execution_count": 11,
   "id": "db2b9c39",
   "metadata": {},
   "outputs": [],
   "source": [
    "X = df.drop([\"stabf\"], axis=1)\n",
    "y = df[\"stabf\"]\n",
    "\n",
    "X_train, X_test, y_train, y_test = train_test_split(X, y, test_size=0.2, random_state=1)"
   ]
  },
  {
   "cell_type": "code",
   "execution_count": 12,
   "id": "78350f3e",
   "metadata": {},
   "outputs": [],
   "source": [
    "from sklearn.preprocessing import StandardScaler\n",
    "t = StandardScaler()\n",
    "X_train = t.fit_transform(X_train)\n",
    "X_test = t.fit_transform(X_test)"
   ]
  },
  {
   "cell_type": "code",
   "execution_count": 13,
   "id": "f7e3421c",
   "metadata": {},
   "outputs": [],
   "source": [
    "# below is a function defined to get accuracy of models"
   ]
  },
  {
   "cell_type": "code",
   "execution_count": 14,
   "id": "5e314583",
   "metadata": {},
   "outputs": [],
   "source": [
    "def get_score(model, X_train, X_test, y_train, y_test): \n",
    "    model.fit(X_train, y_train)\n",
    "    model_score = model.score(X_test, y_test)\n",
    "    return model_score"
   ]
  },
  {
   "cell_type": "markdown",
   "id": "92c469ac",
   "metadata": {},
   "source": [
    "# Q14 : accuracy using random forest classifier -> answer = 0.9195"
   ]
  },
  {
   "cell_type": "code",
   "execution_count": 15,
   "id": "4dae36a7",
   "metadata": {},
   "outputs": [
    {
     "data": {
      "text/plain": [
       "0.928"
      ]
     },
     "execution_count": 15,
     "metadata": {},
     "output_type": "execute_result"
    }
   ],
   "source": [
    "RandomForestScore = get_score(model=RandomForestClassifier(random_state=1), X_train=X_train, X_test=X_test, y_train=y_train, y_test=y_test)\n",
    "RandomForestScore"
   ]
  },
  {
   "cell_type": "markdown",
   "id": "f343a471",
   "metadata": {},
   "source": [
    "# Q15 : accuracy using XGboost classifier -> answer = 0.92"
   ]
  },
  {
   "cell_type": "code",
   "execution_count": 16,
   "id": "b3a64068",
   "metadata": {},
   "outputs": [
    {
     "data": {
      "text/plain": [
       "0.946"
      ]
     },
     "execution_count": 16,
     "metadata": {},
     "output_type": "execute_result"
    }
   ],
   "source": [
    "XGBOOSTScore = get_score(model=XGBClassifier(random_state=1), X_train=X_train, X_test=X_test, y_train=y_train, y_test=y_test)\n",
    "XGBOOSTScore"
   ]
  },
  {
   "cell_type": "markdown",
   "id": "cffe8086",
   "metadata": {},
   "source": [
    "# Q16 : accuracy using LGM classifier -> answer = 0.9375"
   ]
  },
  {
   "cell_type": "code",
   "execution_count": 17,
   "id": "0884f610",
   "metadata": {},
   "outputs": [
    {
     "data": {
      "text/plain": [
       "0.9365"
      ]
     },
     "execution_count": 17,
     "metadata": {},
     "output_type": "execute_result"
    }
   ],
   "source": [
    "\n",
    "lgm = get_score(model=lgb.LGBMClassifier(random_state=1), X_train=X_train, X_test=X_test, y_train=y_train, y_test=y_test)\n",
    "lgm"
   ]
  },
  {
   "cell_type": "code",
   "execution_count": null,
   "id": "dca25698",
   "metadata": {},
   "outputs": [],
   "source": []
  },
  {
   "cell_type": "markdown",
   "id": "245374ca",
   "metadata": {},
   "source": [
    "# Q17 : Using ExtraTreesClassifier, the best hyperparameters\n",
    "# -> answer = {'n_estimators': 1000, 'min_samples_split': 2, 'min_samples_leaf': 6, 'max_features': None}"
   ]
  },
  {
   "cell_type": "code",
   "execution_count": 18,
   "id": "238e1fb5",
   "metadata": {},
   "outputs": [],
   "source": [
    "from sklearn.preprocessing import StandardScaler\n",
    "scaler = StandardScaler()\n",
    "X_train_scaled = scaler.fit_transform(X_train)\n",
    "X_test_scaled = scaler.transform(X_test)"
   ]
  },
  {
   "cell_type": "code",
   "execution_count": 19,
   "id": "9d089fbf",
   "metadata": {},
   "outputs": [],
   "source": [
    "n_estimators = [100, 300, 500, 1000]    \n",
    "min_samples_split = [7, 5, 2, 2]\n",
    "min_samples_leaf = [4, 6, 8, 8]\n",
    "max_features = [None,'auto','log2',None] \n",
    "hyperparameter_grid = {'n_estimators': n_estimators,  'min_samples_split': min_samples_split, 'min_samples_leaf': min_samples_leaf,'max_features': max_features}"
   ]
  },
  {
   "cell_type": "code",
   "execution_count": 23,
   "id": "7206545e",
   "metadata": {},
   "outputs": [
    {
     "data": {
      "text/plain": [
       "0.926"
      ]
     },
     "execution_count": 23,
     "metadata": {},
     "output_type": "execute_result"
    }
   ],
   "source": [
    "Tree_Class = ExtraTreesClassifier (random_state = 1)  \n",
    "Tree_Class.fit(X_train_scaled,y_train)\n",
    "et_predict = Tree_Class.predict(X_test_scaled)\n",
    "from sklearn.metrics import  accuracy_score\n",
    "accuracy_score(y_test, et_predict)"
   ]
  },
  {
   "cell_type": "code",
   "execution_count": 24,
   "id": "4ba3b2f6",
   "metadata": {},
   "outputs": [
    {
     "name": "stdout",
     "output_type": "stream",
     "text": [
      "Fitting 5 folds for each of 10 candidates, totalling 50 fits\n"
     ]
    }
   ],
   "source": [
    "from sklearn.model_selection import RandomizedSearchCV \n",
    "rs = RandomizedSearchCV(estimator = Tree_Class, param_distributions= hyperparameter_grid, random_state=1,cv = 5, n_iter=10,scoring='accuracy',n_jobs=-1, verbose=1)\n",
    "search = rs.fit(X_train_scaled,y_train)"
   ]
  },
  {
   "cell_type": "code",
   "execution_count": 25,
   "id": "845c9e06",
   "metadata": {},
   "outputs": [
    {
     "data": {
      "text/plain": [
       "{'n_estimators': 1000,\n",
       " 'min_samples_split': 2,\n",
       " 'min_samples_leaf': 6,\n",
       " 'max_features': None}"
      ]
     },
     "execution_count": 25,
     "metadata": {},
     "output_type": "execute_result"
    }
   ],
   "source": [
    "search.best_params_"
   ]
  },
  {
   "cell_type": "code",
   "execution_count": null,
   "id": "b23b76ac",
   "metadata": {},
   "outputs": [],
   "source": []
  },
  {
   "cell_type": "code",
   "execution_count": 26,
   "id": "93680a57",
   "metadata": {},
   "outputs": [
    {
     "data": {
      "text/plain": [
       "0.9185"
      ]
     },
     "execution_count": 26,
     "metadata": {},
     "output_type": "execute_result"
    }
   ],
   "source": [
    "new1 = ExtraTreesClassifier(n_estimators= 300,min_samples_split= 5,min_samples_leaf= 6,\n",
    "                                 max_features= 'auto')\n",
    "new1.fit(X_train, y_train)\n",
    "new1.score(X_test, y_test)"
   ]
  },
  {
   "cell_type": "code",
   "execution_count": 27,
   "id": "8d7aff0c",
   "metadata": {},
   "outputs": [
    {
     "data": {
      "text/plain": [
       "0.916"
      ]
     },
     "execution_count": 27,
     "metadata": {},
     "output_type": "execute_result"
    }
   ],
   "source": [
    "new2 = ExtraTreesClassifier(n_estimators= 300,min_samples_split= 5,min_samples_leaf= 6,\n",
    "                                 max_features= 'sqrt')\n",
    "new2.fit(X_train, y_train)\n",
    "new2.score(X_test, y_test)"
   ]
  },
  {
   "cell_type": "code",
   "execution_count": 28,
   "id": "33a5cd9d",
   "metadata": {},
   "outputs": [
    {
     "data": {
      "text/plain": [
       "0.917"
      ]
     },
     "execution_count": 28,
     "metadata": {},
     "output_type": "execute_result"
    }
   ],
   "source": [
    "new3 = ExtraTreesClassifier(n_estimators= 300,min_samples_split= 5,min_samples_leaf= 6,\n",
    "                                 max_features= 'log2')\n",
    "new3.fit(X_train, y_train)\n",
    "new3.score(X_test, y_test)"
   ]
  },
  {
   "cell_type": "markdown",
   "id": "2eb57a8e",
   "metadata": {},
   "source": [
    "# Q18 : accuracy of new model compared to initial model"
   ]
  },
  {
   "cell_type": "code",
   "execution_count": 30,
   "id": "b60be7e7",
   "metadata": {},
   "outputs": [
    {
     "data": {
      "text/plain": [
       "0.926"
      ]
     },
     "execution_count": 30,
     "metadata": {},
     "output_type": "execute_result"
    }
   ],
   "source": [
    "\n",
    "accuracy = accuracy_score(y_true=y_test, y_pred=et_predict) \n",
    "accuracy"
   ]
  },
  {
   "cell_type": "markdown",
   "id": "df69a22b",
   "metadata": {},
   "source": [
    "# clearly, the accuracy of the new optimal modelis lower than the initial ExtraTreesClassifier model with no hyperparameter tuning\n",
    "# thus, answer for 18 is LOWER"
   ]
  },
  {
   "cell_type": "markdown",
   "id": "4dc41a73",
   "metadata": {},
   "source": [
    "# Q19 : answer GRID SEARCH"
   ]
  },
  {
   "cell_type": "markdown",
   "id": "514c30e5",
   "metadata": {},
   "source": [
    "## q20 : features"
   ]
  },
  {
   "cell_type": "code",
   "execution_count": 31,
   "id": "7f8393ef",
   "metadata": {},
   "outputs": [],
   "source": [
    "feature_imp = search.best_estimator_.feature_importances_"
   ]
  },
  {
   "cell_type": "code",
   "execution_count": 32,
   "id": "0403184b",
   "metadata": {},
   "outputs": [
    {
     "name": "stdout",
     "output_type": "stream",
     "text": [
      "Most important features: (0.13842145507674694, 'tau2')\n",
      "Least important features: (0.005354328485013283, 'p1')\n"
     ]
    }
   ],
   "source": [
    "print('Most important features:',max(zip(feature_imp,X)))\n",
    "print('Least important features:',min(zip(feature_imp,X)))"
   ]
  },
  {
   "cell_type": "markdown",
   "id": "bb207416",
   "metadata": {},
   "source": [
    "# Q20 answer -> tau2, p1"
   ]
  },
  {
   "cell_type": "markdown",
   "id": "57779868",
   "metadata": {},
   "source": [
    "# THANK YOU!!!"
   ]
  }
 ],
 "metadata": {
  "kernelspec": {
   "display_name": "Python 3 (ipykernel)",
   "language": "python",
   "name": "python3"
  },
  "language_info": {
   "codemirror_mode": {
    "name": "ipython",
    "version": 3
   },
   "file_extension": ".py",
   "mimetype": "text/x-python",
   "name": "python",
   "nbconvert_exporter": "python",
   "pygments_lexer": "ipython3",
   "version": "3.9.12"
  }
 },
 "nbformat": 4,
 "nbformat_minor": 5
}
